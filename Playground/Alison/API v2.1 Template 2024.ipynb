{
 "cells": [
  {
   "cell_type": "markdown",
   "metadata": {},
   "source": [
    "Code for API v2.1 City of Melburne data collection"
   ]
  },
  {
   "cell_type": "code",
   "execution_count": null,
   "metadata": {},
   "outputs": [],
   "source": [
    "# install packages\n",
    "import os\n",
    "import requests\n",
    "import pandas as pd"
   ]
  },
  {
   "cell_type": "code",
   "execution_count": 3,
   "metadata": {},
   "outputs": [],
   "source": [
    "# Function to get data from website using API\n",
    "\n",
    "def fetch_all_data(base_url, dataset, api_key, num_records=99, offset=0):\n",
    "    all_records = []\n",
    "    max_offset = 9900  # Set a maximum offset value based on API limitations\n",
    "\n",
    "    while True:\n",
    "        if offset > max_offset:\n",
    "            break\n",
    "\n",
    "        filters = f'{dataset}/records?limit={num_records}&offset={offset}'\n",
    "        url = f'{base_url}{filters}&{api_key}'\n",
    "        try:\n",
    "            result = requests.get(url, timeout=10)\n",
    "            result.raise_for_status()\n",
    "            records = result.json().get('results')\n",
    "        except requests.exceptions.RequestException as e:\n",
    "            raise Exception(f\"API request failed: {e}\")\n",
    "\n",
    "        if records is None:\n",
    "            break\n",
    "        all_records.extend(records)\n",
    "        if len(records) < num_records:\n",
    "            break\n",
    "        offset += num_records\n",
    "\n",
    "    df = pd.DataFrame(all_records)\n",
    "    return df\n",
    "\n",
    "API_KEY = os.environ.get('MELBOURNE_API_KEY', input(\"Please enter your API key: \"))\n",
    "BASE_URL = 'https://data.melbourne.vic.gov.au/api/explore/v2.1/catalog/datasets/'\n"
   ]
  },
  {
   "cell_type": "code",
   "execution_count": 4,
   "metadata": {},
   "outputs": [
    {
     "data": {
      "text/html": [
       "<div>\n",
       "<style scoped>\n",
       "    .dataframe tbody tr th:only-of-type {\n",
       "        vertical-align: middle;\n",
       "    }\n",
       "\n",
       "    .dataframe tbody tr th {\n",
       "        vertical-align: top;\n",
       "    }\n",
       "\n",
       "    .dataframe thead th {\n",
       "        text-align: right;\n",
       "    }\n",
       "</style>\n",
       "<table border=\"1\" class=\"dataframe\">\n",
       "  <thead>\n",
       "    <tr style=\"text-align: right;\">\n",
       "      <th></th>\n",
       "      <th>lastupdated</th>\n",
       "      <th>status_timestamp</th>\n",
       "      <th>zone_number</th>\n",
       "      <th>status_description</th>\n",
       "      <th>kerbsideid</th>\n",
       "      <th>location_lat</th>\n",
       "      <th>location_lon</th>\n",
       "    </tr>\n",
       "  </thead>\n",
       "  <tbody>\n",
       "    <tr>\n",
       "      <th>0</th>\n",
       "      <td>2023-12-14T04:45:34+00:00</td>\n",
       "      <td>2023-12-14T03:41:25+00:00</td>\n",
       "      <td>7695.0</td>\n",
       "      <td>Unoccupied</td>\n",
       "      <td>22959</td>\n",
       "      <td>-37.818448</td>\n",
       "      <td>144.959387</td>\n",
       "    </tr>\n",
       "    <tr>\n",
       "      <th>1</th>\n",
       "      <td>2023-12-14T04:45:34+00:00</td>\n",
       "      <td>2023-12-13T06:21:58+00:00</td>\n",
       "      <td>7939.0</td>\n",
       "      <td>Unoccupied</td>\n",
       "      <td>10136</td>\n",
       "      <td>-37.809991</td>\n",
       "      <td>144.952638</td>\n",
       "    </tr>\n",
       "    <tr>\n",
       "      <th>2</th>\n",
       "      <td>2023-12-14T04:45:34+00:00</td>\n",
       "      <td>2023-12-13T07:44:31+00:00</td>\n",
       "      <td>NaN</td>\n",
       "      <td>Unoccupied</td>\n",
       "      <td>6992</td>\n",
       "      <td>-37.818985</td>\n",
       "      <td>144.959652</td>\n",
       "    </tr>\n",
       "  </tbody>\n",
       "</table>\n",
       "</div>"
      ],
      "text/plain": [
       "                 lastupdated           status_timestamp  zone_number  \\\n",
       "0  2023-12-14T04:45:34+00:00  2023-12-14T03:41:25+00:00       7695.0   \n",
       "1  2023-12-14T04:45:34+00:00  2023-12-13T06:21:58+00:00       7939.0   \n",
       "2  2023-12-14T04:45:34+00:00  2023-12-13T07:44:31+00:00          NaN   \n",
       "\n",
       "  status_description  kerbsideid  location_lat  location_lon  \n",
       "0         Unoccupied       22959    -37.818448    144.959387  \n",
       "1         Unoccupied       10136    -37.809991    144.952638  \n",
       "2         Unoccupied        6992    -37.818985    144.959652  "
      ]
     },
     "execution_count": 4,
     "metadata": {},
     "output_type": "execute_result"
    }
   ],
   "source": [
    "# Set specific url \n",
    "# (change this variable for the dataset you are working with)\n",
    "\n",
    "SPECIFIC_PATH = 'on-street-parking-bay-sensors'\n",
    "\n",
    "df = fetch_all_data(BASE_URL, SPECIFIC_PATH, API_KEY)\n",
    "\n",
    "# Extract latitude and longitude\n",
    "df['location_lat'] = df['location'].apply(lambda x: x.get('lat', None))\n",
    "df['location_lon'] = df['location'].apply(lambda x: x.get('lon', None))\n",
    "\n",
    "# Drop the original location column (can drop additional columns here)\n",
    "df.drop(columns=['location'], inplace=True)\n",
    "\n",
    "#Print the head of the dataframe\n",
    "df.head(3)"
   ]
  }
 ],
 "metadata": {
  "kernelspec": {
   "display_name": "Python 3",
   "language": "python",
   "name": "python3"
  },
  "language_info": {
   "codemirror_mode": {
    "name": "ipython",
    "version": 3
   },
   "file_extension": ".py",
   "mimetype": "text/x-python",
   "name": "python",
   "nbconvert_exporter": "python",
   "pygments_lexer": "ipython3",
   "version": "3.10.10"
  }
 },
 "nbformat": 4,
 "nbformat_minor": 2
}
